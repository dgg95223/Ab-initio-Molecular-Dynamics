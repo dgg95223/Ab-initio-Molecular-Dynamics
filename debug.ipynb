{
 "cells": [
  {
   "cell_type": "code",
   "execution_count": 1,
   "metadata": {},
   "outputs": [],
   "source": [
    "import time\n",
    "import tempfile\n",
    "\n",
    "from functools import reduce\n",
    "import numpy as np\n",
    "import scipy\n",
    "\n",
    "from pyscf import gto, scf\n",
    "from pyscf import lib, lo\n",
    "from pyscf.lib import logger\n",
    "from pyscf.data import elements\n",
    "from pyscf.grad import rhf"
   ]
  },
  {
   "cell_type": "code",
   "execution_count": 2,
   "metadata": {},
   "outputs": [
    {
     "name": "stdout",
     "output_type": "stream",
     "text": [
      "0.2902414682120198\n"
     ]
    }
   ],
   "source": [
    "amu2au = 1.6605402e-24/9.1093837015e-28\n",
    "au2eV = 27.211386246\n",
    "\n",
    "m1 = 23.0 * amu2au\n",
    "m2 = 35.5 * amu2au\n",
    "\n",
    "v1 =  -0.00055545\n",
    "v2 = 0.00036022\n",
    "\n",
    "k1 = 1/2 * m1 * v1**2\n",
    "k2 = 1/2 * m2 * v2**2\n",
    "\n",
    "print((k1+k2)*au2eV)\n",
    "\n",
    "mol =   gto.Mole( atom='''\n",
    "    Na    0.0000000    0.0000000    1.205\n",
    "    Cl    0.0000000    0.0000000   -1.205\n",
    "    '''\n",
    "    , basis='3-21g', symmetry=False, cart=False).build()\n",
    "\n",
    "mf = scf.RHF(mol)\n",
    "mf.verbose = 0\n",
    "mf.max_cycle = 100\n",
    "mf.kernel()\n",
    "dm = mf.make_rdm1()"
   ]
  },
  {
   "cell_type": "code",
   "execution_count": 10,
   "metadata": {},
   "outputs": [
    {
     "name": "stdout",
     "output_type": "stream",
     "text": [
      "[[-0.         -0.         -0.00111086]\n",
      " [ 0.          0.          0.00071972]]\n"
     ]
    }
   ],
   "source": [
    "mass = np.array(((m1,m2)))\n",
    "eV2au = 0.036749405469679\n",
    "energy = 1.16\n",
    "energy = energy * eV2au\n",
    "\n",
    "# Convert vibration energy (eV) to momenta (Only for 2-atom molecule)\n",
    "# Initially momenta is conserved: P_a = -P_b\n",
    "\n",
    "def cal_velocity(momenta, mass):\n",
    "    '''Calculate velocity from momenta'''\n",
    "    mass_reci = np.reciprocal(mass).reshape((1,2))\n",
    "    vel = momenta * mass_reci.T\n",
    "\n",
    "    return vel\n",
    "\n",
    "mass_r = (mass[0] + mass[1]) / (mass[0] * mass[1])\n",
    "vector = mol.atom_coords()[0] - mol.atom_coords()[1]\n",
    "direction = vector / (np.sqrt(vector[0]**2 + vector[1]**2 + vector[2]**2))\n",
    "momenta_sq = energy / mass_r * 2 \n",
    "momenta = np.sqrt(momenta_sq)\n",
    "momenta_init = -momenta * np.array((direction,-direction))\n",
    "vel = cal_velocity(momenta_init,mass)\n",
    "\n",
    "print(vel)"
   ]
  },
  {
   "cell_type": "code",
   "execution_count": 12,
   "metadata": {},
   "outputs": [
    {
     "data": {
      "text/plain": [
       "1.16"
      ]
     },
     "execution_count": 12,
     "metadata": {},
     "output_type": "execute_result"
    }
   ],
   "source": [
    "(0.5*mass[0]*vel[0][2]**2+0.5*mass[1]*vel[1][2]**2)/eV2au"
   ]
  },
  {
   "cell_type": "code",
   "execution_count": 16,
   "metadata": {},
   "outputs": [
    {
     "name": "stdout",
     "output_type": "stream",
     "text": [
      "1.1600000000000001\n"
     ]
    }
   ],
   "source": [
    "ene = np.linalg.norm(momenta_init[0])**2 * mass_r / 2\n",
    "print(ene/eV2au)"
   ]
  },
  {
   "cell_type": "code",
   "execution_count": null,
   "metadata": {},
   "outputs": [],
   "source": []
  }
 ],
 "metadata": {
  "kernelspec": {
   "display_name": "Python 3",
   "language": "python",
   "name": "python3"
  },
  "language_info": {
   "codemirror_mode": {
    "name": "ipython",
    "version": 3
   },
   "file_extension": ".py",
   "mimetype": "text/x-python",
   "name": "python",
   "nbconvert_exporter": "python",
   "pygments_lexer": "ipython3",
   "version": "3.8.3"
  }
 },
 "nbformat": 4,
 "nbformat_minor": 4
}
